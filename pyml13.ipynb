{
 "cells": [
  {
   "cell_type": "markdown",
   "metadata": {},
   "source": [
    "## 13.1.2 はじめてのTheano\n",
    "\n",
    "Theanoの手続き3ステップ\n",
    "\n",
    "- 定義\n",
    "- コンパイル\n",
    "- 実行\n",
    "\n",
    "テンソルはスカラー、ベクトル、行列などを一般化したもの  \n",
    "\n",
    "- スカラーは階数0\n",
    "-　ベクトルは階数1\n",
    "- 行列は階数2\n",
    "- 3次の積み上げ行列は階数3のテンソル\n",
    "\n",
    "重み$w_1$、バイアス$w_0$の一次元のデータセットでサンプル点$x$の総入力$z$を計算してみる  \n",
    "\n",
    "$$ z = x_1 \\times w_1 + w_0 $$"
   ]
  },
  {
   "cell_type": "code",
   "execution_count": 3,
   "metadata": {
    "collapsed": false
   },
   "outputs": [
    {
     "name": "stdout",
     "output_type": "stream",
     "text": [
      "Net print: 2.50\n"
     ]
    }
   ],
   "source": [
    "import theano\n",
    "from theano import tensor as T\n",
    "\n",
    "# 初期化\n",
    "x1 = T.scalar()\n",
    "w1 = T.scalar()\n",
    "w0 = T.scalar()\n",
    "z1 = w1 * x1 + w0\n",
    "\n",
    "# コンパイル\n",
    "net_input = theano.function(inputs=[w1, x1, w0], outputs=z1)\n",
    "\n",
    "# 実行\n",
    "print(\"Net print: %.2f\" % net_input(2.0, 1.0, 0.5))"
   ]
  },
  {
   "cell_type": "markdown",
   "metadata": {},
   "source": [
    "## 13.1.3 Theanoを設定\n",
    "最近のOSは64bitのメモリアドレスを使う  \n",
    "ただし数式の評価をGPUで高速化したい場合は、従来の32bitが多い  \n",
    "\n",
    "デフォルトではNumPyもTheanoもfloat64をしようする\n",
    "``theano.config.floatX``でTheanoの設定にアクセスできる  \n",
    "また現在のPythonセッションで切り替えたい場合は``theano.config.floatX = 'float32'``  \n",
    "\n",
    "CPUかGPUの確認は``print(theano.config.device``\n",
    "\n",
    ".theanorcの書き方は\n",
    "\n",
    "```\n",
    "[global]\n",
    "floatX=32\n",
    "device=gpu\n",
    "```"
   ]
  },
  {
   "cell_type": "markdown",
   "metadata": {},
   "source": [
    "## 13.1.4 配列構造の操作"
   ]
  },
  {
   "cell_type": "code",
   "execution_count": 5,
   "metadata": {
    "collapsed": false
   },
   "outputs": [
    {
     "name": "stdout",
     "output_type": "stream",
     "text": [
      "('Column sum', array([ 2.,  4.,  6.], dtype=float32))\n",
      "('Column sum', array([ 2.,  4.,  6.], dtype=float32))\n"
     ]
    }
   ],
   "source": [
    "import numpy as np\n",
    "# 初期化\n",
    "# Theanoを64bitで実行している場合は、\n",
    "# fmatrixの代わりにdmatrixを使用することがある\n",
    "x = T.fmatrix(name='x')\n",
    "x_sum = T.sum(x, axis=0)\n",
    "\n",
    "# コンパイル\n",
    "calc_sum = theano.function(inputs=[x], outputs=x_sum)\n",
    "\n",
    "# 実行(Pythonリスト)\n",
    "ary = [[1, 2, 3], [1, 2, 3]]\n",
    "print(\"Column sum\", calc_sum(ary))\n",
    "\n",
    "# 実行(NumPy配列)\n",
    "ary = np.array([[1, 2, 3], [1, 2, 3]], dtype=theano.config.floatX)\n",
    "print(\"Column sum\", calc_sum(ary))"
   ]
  },
  {
   "cell_type": "code",
   "execution_count": 6,
   "metadata": {
    "collapsed": false
   },
   "outputs": [
    {
     "name": "stdout",
     "output_type": "stream",
     "text": [
      "('z0: ', array([[ 0.]], dtype=float32))\n",
      "('z1: ', array([[ 6.]], dtype=float32))\n",
      "('z2: ', array([[ 12.]], dtype=float32))\n",
      "('z3: ', array([[ 18.]], dtype=float32))\n",
      "('z4: ', array([[ 24.]], dtype=float32))\n"
     ]
    }
   ],
   "source": [
    "# 初期化\n",
    "x = T.fmatrix('x')\n",
    "w = theano.shared(np.asarray([[0.0, 0.0, 0.0]], dtype=theano.config.floatX))\n",
    "z = x.dot(w.T)\n",
    "update = [[w, w + 1.0]]\n",
    "\n",
    "# コンパイル\n",
    "net_input = theano.function(inputs=[x], updates=update, outputs=z)\n",
    "\n",
    "# 実行\n",
    "data = np.array([[1, 2, 3]], dtype=theano.config.floatX)\n",
    "for i in range(5):\n",
    "    print('z%d: ' % i, net_input(data))"
   ]
  },
  {
   "cell_type": "markdown",
   "metadata": {},
   "source": [
    "``theano.function``で``inputs``引数を使用する場合、データはCPUからGPUになんども転送される  \n",
    "givens変数を使用すれば、コンパイル前にグラフに値を挿入することができる  "
   ]
  },
  {
   "cell_type": "code",
   "execution_count": 9,
   "metadata": {
    "collapsed": false
   },
   "outputs": [
    {
     "name": "stdout",
     "output_type": "stream",
     "text": [
      "('z0: ', array([[ 0.]], dtype=float32))\n",
      "('z1: ', array([[ 6.]], dtype=float32))\n",
      "('z2: ', array([[ 12.]], dtype=float32))\n",
      "('z3: ', array([[ 18.]], dtype=float32))\n",
      "('z4: ', array([[ 24.]], dtype=float32))\n"
     ]
    }
   ],
   "source": [
    "# 初期化\n",
    "data = np.array([[1, 2, 3]], dtype=theano.config.floatX)\n",
    "x = T.fmatrix('x')\n",
    "w = theano.shared(np.asarray([[0.0, 0.0, 0.0]], dtype=theano.config.floatX))\n",
    "z = x.dot(w.T)\n",
    "\n",
    "update = [[w, w + 1.0]]\n",
    "\n",
    "# コンパイル\n",
    "net_input = theano.function(inputs=[], updates=update, givens={x: data}, outputs=z)\n",
    "\n",
    "# 実行\n",
    "for i in range(5):\n",
    "    print('z%d: ' % i, net_input())"
   ]
  },
  {
   "cell_type": "markdown",
   "metadata": {},
   "source": [
    "## 13.1. 5 線形回帰の例"
   ]
  },
  {
   "cell_type": "code",
   "execution_count": 10,
   "metadata": {
    "collapsed": true
   },
   "outputs": [],
   "source": [
    "X_train = np.asarray([[0.0], [1.0],\n",
    "                                      [2.0], [3.0],\n",
    "                                      [4.0], [5.0],\n",
    "                                      [6.0], [7.0],\n",
    "                                      [8.0], [9.0]],\n",
    "                                     dtype=theano.config.floatX)\n",
    "y_train = np.asarray([1.0, 1.3,\n",
    "                                      3.1, 2.0,\n",
    "                                      5.0, 6.3,\n",
    "                                      6.6, 7.4,\n",
    "                                      8.0, 9.0],\n",
    "                                     dtype=theano.config.floatX)"
   ]
  },
  {
   "cell_type": "code",
   "execution_count": 11,
   "metadata": {
    "collapsed": true
   },
   "outputs": [],
   "source": [
    "import theano\n",
    "from theano import tensor as T\n",
    "import numpy as np\n",
    "\n",
    "def train_linreg(X_train, y_train, eta, epochs):\n",
    "    \n",
    "    costs=[]\n",
    "    # 配列の初期化\n",
    "    eta0 = T.fscalar('eta0') # float32型のスカラーのインスタンス\n",
    "    y = T.fvector(name='y') # float32型のベクトルのインスタンス\n",
    "    X = T.fmatrix(name='X') # float32型の行列のインスタンス\n",
    "    # 重みwを関数内で参照可能な共有変数として作成\n",
    "    w = theano.shared(np.zeros(shape=(X_train.shape[1] + 1), dtype=theano.config.floatX), name='w')\n",
    "    \n",
    "    # コストの計算\n",
    "    net_input = T.dot(X, w[1:]) + w[0] # 重みを用いて総入力を計算\n",
    "    errors = y - net_input # yと総入力の誤差\n",
    "    cost = T.sum(T.pow(errors, 2)) # 誤差の２乗和\n",
    "    \n",
    "    # 重みの更新\n",
    "    gradient = T.grad(cost, wrt=w) # コストの勾配\n",
    "    update = [(w, w - eta0 * gradient)] # コストの勾配に学習率をかけて重みwを更新\n",
    "    \n",
    "    # モデルのコンパイル\n",
    "    train = theano.function(inputs=[eta0], outputs=cost, updates=update, givens={X: X_train, y: y_train})\n",
    "    \n",
    "    for _ in range(epochs):\n",
    "        costs.append(train(eta))\n",
    "        \n",
    "    return costs, w"
   ]
  },
  {
   "cell_type": "code",
   "execution_count": 12,
   "metadata": {
    "collapsed": false
   },
   "outputs": [
    {
     "data": {
      "image/png": "[encoded data removed]",
      "text/plain": [
       "<matplotlib.figure.Figure at 0x110065dd0>"
      ]
     },
     "metadata": {},
     "output_type": "display_data"
    }
   ],
   "source": [
    "import matplotlib.pyplot as plt\n",
    "%matplotlib inline\n",
    "costs, w = train_linreg(X_train, y_train, eta=0.001, epochs=10)\n",
    "plt.plot(range(1, len(costs) + 1), costs)\n",
    "plt.xlabel(\"Epoch\")\n",
    "plt.ylabel(\"Cost\")\n",
    "plt.tight_layout()\n",
    "plt.show()"
   ]
  },
  {
   "cell_type": "code",
   "execution_count": 15,
   "metadata": {
    "collapsed": true
   },
   "outputs": [],
   "source": [
    "def predict_linreg(X, w):\n",
    "    Xt = T.matrix(name='X')\n",
    "    net_input = T.dot(Xt, w[1:]) + w[0]\n",
    "    predict = theano.function(inputs=[Xt], givens={w: w}, outputs=net_input)\n",
    "    \n",
    "    return predict(X)"
   ]
  },
  {
   "cell_type": "code",
   "execution_count": 16,
   "metadata": {
    "collapsed": false
   },
   "outputs": [
    {
     "data": {
      "image/png": "[encoded data removed]",
      "text/plain": [
       "<matplotlib.figure.Figure at 0x11138e6d0>"
      ]
     },
     "metadata": {},
     "output_type": "display_data"
    }
   ],
   "source": [
    "plt.scatter(X_train, y_train, marker='s', s=50)\n",
    "plt.plot(range(X_train.shape[0]), predict_linreg(X_train, w),\n",
    "              color='gray', marker='o', markersize=4, linewidth=3)\n",
    "plt.xlabel('x')\n",
    "plt.ylabel('y')\n",
    "plt.show()"
   ]
  },
  {
   "cell_type": "markdown",
   "metadata": {},
   "source": [
    "# 13.2 フィードフォワードNNでの活性化関数の選択\n",
    "シグモイド関数は「ロジスティック関数」または「負の対数尤度関数」  \n",
    "入力の負の度合いが高い場合は0に近づく  \n",
    "0に近い出力を返す場合、NNの学習に非常に時間がかかってしまい、極小値に陥る可能性が高くなる  \n",
    "隠れ層の活性化関数としてtanh関数が用いられるのはそのため。  \n",
    "\n",
    "## 13.2.1 ロジスティック関数まとめ\n",
    "ロジスティック関数を利用すれば、二値分類タスクにおいてサンプルxが陽性クラス(クラス1)に分類  \n",
    "\n",
    "$$\\phi{(z)} = \\frac{1}{1 + e^{-z}}$$\n",
    "\n"
   ]
  },
  {
   "cell_type": "code",
   "execution_count": 19,
   "metadata": {
    "collapsed": false
   },
   "outputs": [
    {
     "name": "stdout",
     "output_type": "stream",
     "text": [
      "P(y=1|x) = 0.707\n"
     ]
    }
   ],
   "source": [
    "X = np.array([[1, 1.4, 1.5]])\n",
    "w = np.array([0.0, 0.2, 0.4])\n",
    "\n",
    "def net_input(X, w):\n",
    "    z = X.dot(w)\n",
    "    return z\n",
    "\n",
    "def logistic(z):\n",
    "    return 1.0 / (1.0 + np.exp(-z))\n",
    "\n",
    "def logistic_activation(X, w):\n",
    "    z = net_input(X, w)\n",
    "    return logistic(z)\n",
    "\n",
    "print(\"P(y=1|x) = %.3f\" % logistic_activation(X, w)[0])"
   ]
  },
  {
   "cell_type": "markdown",
   "metadata": {},
   "source": [
    "この値から、サンプルxが陽性クラスに属する確率は70.7%であると解釈できる。  \n",
    "\n",
    "one-hotエンコーディング手法を用いた、複数のロジスティック活性化ユニットからなる出力層は、  \n",
    "解釈可能な確率を出力しない。"
   ]
  },
  {
   "cell_type": "code",
   "execution_count": 34,
   "metadata": {
    "collapsed": false
   },
   "outputs": [
    {
     "name": "stdout",
     "output_type": "stream",
     "text": [
      "Probabilities:\n",
      "[[ 0.87653295]\n",
      " [ 0.57688526]\n",
      " [ 0.90114393]]\n"
     ]
    }
   ],
   "source": [
    "# W : array, shape = [n_output_units, n_hidden_units + 1]\n",
    "# 隠れ層 -> 出力層の重み行列\n",
    "# 最初の列(A[:][0] = 1)がバイアスユニットであることに注意\n",
    "W = np.array([[1.1, 1.2, 1.3, 0.5],\n",
    "                          [0.1, 0.2, 0.4, 0.1],\n",
    "                          [0.2, 0.5, 2.1, 1.9]])\n",
    "\n",
    "# A : array, shape = [n_hiden+1, n_samples]\n",
    "# 隠れ層の活性化\n",
    "# 最初の要素(A[0][0] = 1)がバイアスユニットであることに注意\n",
    "A = np.array([[1.0],\n",
    "                         [0.1],\n",
    "                         [0.3],\n",
    "                         [0.7]])\n",
    "\n",
    "# Z : array, shape = [n_output_units, n_samples]\n",
    "# 出力層の総入力\n",
    "Z = W.dot(A)\n",
    "y_probas = logistic(Z)\n",
    "\n",
    "# Python3系では``print('Probabilities:\\n', y_probas)``でいける。\n",
    "# Python2系はprintの文字列の次に``,``を入れると改行無視になる\n",
    "print('Probabilities:')\n",
    "print(y_probas)"
   ]
  },
  {
   "cell_type": "markdown",
   "metadata": {},
   "source": [
    "この出力に示されているように、1つ目のクラスに分類される確率は約88%,  \n",
    "2つ目のクラスに分類される確率は約58%,  \n",
    "3つ目のクラスに分類される確率は90%である  \n",
    "\n",
    "パーセンテージは合わせて100になるものとして表現されておらず、  \n",
    "このモデルがクラスラベルの予測にのみ使用され、クラスの所属関係の確率には使用されていないとすれば、  \n",
    "実際にはそれほど大きな問題ではない"
   ]
  },
  {
   "cell_type": "code",
   "execution_count": 32,
   "metadata": {
    "collapsed": false
   },
   "outputs": [
    {
     "name": "stdout",
     "output_type": "stream",
     "text": [
      "predict class label: 2\n"
     ]
    }
   ],
   "source": [
    "y_class = np.argmax(Z, axis=0)\n",
    "print('predict class label: %d' % y_class[0])"
   ]
  },
  {
   "cell_type": "markdown",
   "metadata": {},
   "source": [
    "クラスへの所属確率を返すという目的には「ソフトマックス関数」で一般化する  \n",
    "\n",
    "## 13.2.2 ソフトマックス関数を使って多クラス分類の確率を推定\n",
    "M個の関数の和である正規化項を分母に使用して、各クラスへの所属確率の和が1になるようにしている。  \n",
    "\n",
    "$$ P(y=i|z) = \\phi(z) = \\frac{e_i^z}{\\sum^M_{m=1}e^z_m} $$"
   ]
  },
  {
   "cell_type": "code",
   "execution_count": 36,
   "metadata": {
    "collapsed": false
   },
   "outputs": [
    {
     "name": "stdout",
     "output_type": "stream",
     "text": [
      "Probabilities:\n",
      "[[ 0.40386493]\n",
      " [ 0.07756222]\n",
      " [ 0.51857284]]\n"
     ]
    },
    {
     "data": {
      "text/plain": [
       "1.0"
      ]
     },
     "execution_count": 36,
     "metadata": {},
     "output_type": "execute_result"
    }
   ],
   "source": [
    "def softmax(z):\n",
    "    return np.exp(z) / np.sum(np.exp(z))\n",
    "\n",
    "def softmax_activation(X, w):\n",
    "    z = net_input(X, w)\n",
    "    return softmax(z)\n",
    "\n",
    "y_probas = softmax(Z)\n",
    "print('Probabilities:')\n",
    "print(y_probas)\n",
    "y_probas.sum()"
   ]
  },
  {
   "cell_type": "markdown",
   "metadata": {},
   "source": [
    "ソフトマックス関数については、多クラス分類問題においてクラスの所属関係を効果的に予測するのに役立つ  \n",
    "**正規化されたロジスティック関数**として考えるのもよいかもしれない  "
   ]
  },
  {
   "cell_type": "markdown",
   "metadata": {},
   "source": [
    "## 13.2.3 双曲線正接関数を使って出力範囲を拡大する\n",
    "ロジスティック関数の尺度を取り直したバージョン  \n",
    "$$ \\phi_{tanh}(z) = 2 \\times \\phi_{logistic}(2 \\times z) -1 = \\frac{e^z - e^{-z}}{e^z + e^{-z}} $$\n",
    "\n",
    "双曲線正接関数の利点は、出力範囲が狭く、開区間(-1, 1)におよぶことである。  \n",
    "このためバックプロパゲーションの収束を改善することが可能である。(詳しいことはPRML)  \n",
    "対照的にロジスティック関数は開区間(0, 1)の出力信号を返す。  "
   ]
  },
  {
   "cell_type": "code",
   "execution_count": 38,
   "metadata": {
    "collapsed": false
   },
   "outputs": [
    {
     "data": {
      "image/png": "[encoded data removed]",
      "text/plain": [
       "<matplotlib.figure.Figure at 0x11190b910>"
      ]
     },
     "metadata": {},
     "output_type": "display_data"
    }
   ],
   "source": [
    "def tanh(z):\n",
    "    e_p = np.exp(z)\n",
    "    e_m = np.exp(-z)\n",
    "    return (e_p - e_m) / (e_p + e_m)\n",
    "\n",
    "z = np.arange(-5, 5, 0.005)\n",
    "\n",
    "log_act = logistic(z)\n",
    "tanh_act = tanh(z)\n",
    "plt.ylim([-1.5, 1.5])\n",
    "plt.xlabel('net input $z$')\n",
    "plt.ylabel('activation $\\phi(z)$')\n",
    "plt.axhline(1, color='black', linestyle='--')\n",
    "plt.axhline(0.5, color='black', linestyle='--')\n",
    "plt.axhline(0, color='black', linestyle='--')\n",
    "plt.axhline(-1, color='black', linestyle='--')\n",
    "plt.plot(z, tanh_act, linewidth=2, color='black', label='tanh')\n",
    "plt.plot(z, log_act, linewidth=2, color='lightgreen', label='logistic')\n",
    "plt.legend(loc='lower right')\n",
    "plt.show()"
   ]
  },
  {
   "cell_type": "markdown",
   "metadata": {},
   "source": [
    "# Kerasを使ったニューラルネットワークの効率的なトレーニング\n",
    "``pip install keras``"
   ]
  },
  {
   "cell_type": "code",
   "execution_count": null,
   "metadata": {
    "collapsed": true
   },
   "outputs": [],
   "source": []
  }
 ],
 "metadata": {
  "kernelspec": {
   "display_name": "Python 2",
   "language": "python",
   "name": "python2"
  },
  "language_info": {
   "codemirror_mode": {
    "name": "ipython",
    "version": 2
   },
   "file_extension": ".py",
   "mimetype": "text/x-python",
   "name": "python",
   "nbconvert_exporter": "python",
   "pygments_lexer": "ipython2",
   "version": "2.7.10"
  }
 },
 "nbformat": 4,
 "nbformat_minor": 0
}
