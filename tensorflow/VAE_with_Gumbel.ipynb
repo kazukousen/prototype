{
 "cells": [
  {
   "cell_type": "markdown",
   "metadata": {},
   "source": [
    "## Gumbel-Softmax"
   ]
  },
  {
   "cell_type": "code",
   "execution_count": 1,
   "metadata": {
    "collapsed": true
   },
   "outputs": [],
   "source": [
    "import tensorflow as tf\n",
    "import numpy as np\n",
    "\n",
    "import matplotlib.pyplot as plt\n",
    "%matplotlib inline"
   ]
  },
  {
   "cell_type": "code",
   "execution_count": 2,
   "metadata": {
    "collapsed": false
   },
   "outputs": [],
   "source": [
    "import gzip\n",
    "f = gzip.open('mnist.pkl.gz')"
   ]
  },
  {
   "cell_type": "code",
   "execution_count": 3,
   "metadata": {
    "collapsed": true
   },
   "outputs": [],
   "source": [
    "(train_x, train_y), (valid_x, valid_y), (test_x, test_y) = np.load(f)"
   ]
  },
  {
   "cell_type": "code",
   "execution_count": 4,
   "metadata": {
    "collapsed": true
   },
   "outputs": [],
   "source": [
    "train_x[train_x > 0.5] = 1.0\n",
    "train_x[train_x <= 0.5] = 0.0\n",
    "valid_x[valid_x > 0.5] = 1.0\n",
    "valid_x[valid_x <= 0.5] = 0.0\n",
    "test_x[test_x > 0.5] = 1.0\n",
    "test_x[test_x <= 0.5] = 0.0"
   ]
  },
  {
   "cell_type": "code",
   "execution_count": 5,
   "metadata": {
    "collapsed": false
   },
   "outputs": [],
   "source": [
    "from gumbel_bp import Gumbel_BP"
   ]
  },
  {
   "cell_type": "code",
   "execution_count": 6,
   "metadata": {
    "collapsed": false
   },
   "outputs": [],
   "source": [
    "model  =Gumbel_BP()"
   ]
  },
  {
   "cell_type": "code",
   "execution_count": 7,
   "metadata": {
    "collapsed": false
   },
   "outputs": [
    {
     "name": "stdout",
     "output_type": "stream",
     "text": [
      "Epoch 1, loss: -147.652, val_loss: -159.044, time: 13.041\n",
      "Epoch 2, loss: -126.095, val_loss: -129.540, time: 12.717\n",
      "Epoch 3, loss: -113.717, val_loss: -117.910, time: 12.701\n",
      "Epoch 4, loss: -113.532, val_loss: -110.101, time: 12.683\n",
      "Epoch 5, loss: -102.617, val_loss: -105.660, time: 13.466\n",
      "Epoch 6, loss: -100.181, val_loss: -101.068, time: 13.464\n",
      "Epoch 7, loss: -103.460, val_loss: -98.425, time: 13.316\n",
      "Epoch 8, loss: -91.412, val_loss: -96.163, time: 13.195\n",
      "Epoch 9, loss: -95.686, val_loss: -93.729, time: 13.472\n",
      "Epoch 10, loss: -99.912, val_loss: -92.763, time: 13.443\n",
      "tau: 0.985141, lr:0.000990\n",
      "Epoch 11, loss: -100.184, val_loss: -91.360, time: 13.515\n",
      "Epoch 12, loss: -92.936, val_loss: -90.185, time: 13.607\n",
      "Epoch 13, loss: -84.163, val_loss: -89.230, time: 13.325\n",
      "Epoch 14, loss: -93.397, val_loss: -88.363, time: 13.468\n",
      "Epoch 15, loss: -92.334, val_loss: -87.577, time: 13.334\n",
      "Epoch 16, loss: -83.981, val_loss: -86.666, time: 14.249\n",
      "Epoch 17, loss: -86.395, val_loss: -86.445, time: 15.637\n",
      "Epoch 18, loss: -80.635, val_loss: -85.696, time: 14.537\n",
      "Epoch 19, loss: -80.327, val_loss: -85.009, time: 14.006\n",
      "Epoch 20, loss: -81.289, val_loss: -84.477, time: 13.499\n",
      "tau: 0.985141, lr:0.000980\n",
      "Epoch 21, loss: -84.510, val_loss: -84.033, time: 13.612\n",
      "Epoch 22, loss: -82.388, val_loss: -83.517, time: 13.598\n",
      "Epoch 23, loss: -78.267, val_loss: -82.784, time: 13.507\n",
      "Epoch 24, loss: -77.214, val_loss: -82.330, time: 13.428\n",
      "Epoch 25, loss: -83.166, val_loss: -81.849, time: 13.444\n",
      "Epoch 26, loss: -76.871, val_loss: -81.444, time: 13.950\n",
      "Epoch 27, loss: -76.621, val_loss: -80.917, time: 13.978\n",
      "Epoch 28, loss: -78.209, val_loss: -80.640, time: 13.491\n",
      "Epoch 29, loss: -80.462, val_loss: -80.710, time: 13.447\n",
      "Epoch 30, loss: -72.645, val_loss: -80.080, time: 14.815\n",
      "tau: 0.985141, lr:0.000970\n",
      "Epoch 31, loss: -79.294, val_loss: -79.618, time: 13.649\n",
      "Epoch 32, loss: -74.612, val_loss: -79.271, time: 14.487\n",
      "Epoch 33, loss: -73.114, val_loss: -78.946, time: 17.271\n",
      "Epoch 34, loss: -70.791, val_loss: -78.813, time: 15.541\n",
      "Epoch 35, loss: -73.024, val_loss: -78.642, time: 16.342\n",
      "Epoch 36, loss: -80.207, val_loss: -78.272, time: 14.536\n",
      "Epoch 37, loss: -75.067, val_loss: -78.078, time: 14.767\n",
      "Epoch 38, loss: -75.117, val_loss: -77.855, time: 13.996\n",
      "Epoch 39, loss: -74.983, val_loss: -77.557, time: 14.105\n",
      "Epoch 40, loss: -75.379, val_loss: -77.272, time: 13.922\n",
      "tau: 0.985141, lr:0.000961\n",
      "Epoch 41, loss: -71.799, val_loss: -77.430, time: 14.153\n",
      "Epoch 42, loss: -78.839, val_loss: -76.873, time: 14.103\n",
      "Epoch 43, loss: -73.847, val_loss: -76.783, time: 14.044\n",
      "Epoch 44, loss: -68.981, val_loss: -76.469, time: 14.128\n",
      "Epoch 45, loss: -68.899, val_loss: -76.531, time: 14.149\n",
      "Epoch 46, loss: -79.896, val_loss: -76.625, time: 14.379\n",
      "Epoch 47, loss: -76.733, val_loss: -76.376, time: 13.988\n",
      "Epoch 48, loss: -75.467, val_loss: -76.112, time: 13.715\n",
      "Epoch 49, loss: -66.781, val_loss: -75.839, time: 13.768\n",
      "Epoch 50, loss: -72.230, val_loss: -75.769, time: 13.960\n",
      "tau: 0.985141, lr:0.000951\n"
     ]
    }
   ],
   "source": [
    "model.fit(x_train=train_x, x_valid=valid_x)"
   ]
  },
  {
   "cell_type": "code",
   "execution_count": 8,
   "metadata": {
    "collapsed": true
   },
   "outputs": [],
   "source": [
    "reconstruct = model.predict(x_data=test_x[200:201])"
   ]
  },
  {
   "cell_type": "code",
   "execution_count": 9,
   "metadata": {
    "collapsed": false
   },
   "outputs": [
    {
     "data": {
      "text/plain": [
       "<matplotlib.image.AxesImage at 0x113766c90>"
      ]
     },
     "execution_count": 9,
     "metadata": {},
     "output_type": "execute_result"
    },
    {
     "data": {
      "image/png": "[encoded data removed]",
      "text/plain": [
       "<matplotlib.figure.Figure at 0x113c7f090>"
      ]
     },
     "metadata": {},
     "output_type": "display_data"
    }
   ],
   "source": [
    "plt.gray()\n",
    "plt.subplot(2, 1, 1)\n",
    "plt.imshow(test_x[200:201].reshape(28, 28))\n",
    "plt.subplot(2, 1, 2)\n",
    "plt.imshow(reconstruct.reshape(28, 28))"
   ]
  },
  {
   "cell_type": "code",
   "execution_count": 10,
   "metadata": {
    "collapsed": true
   },
   "outputs": [],
   "source": [
    "encode = model.encoder(x_data=test_x[200:201])"
   ]
  },
  {
   "cell_type": "code",
   "execution_count": 11,
   "metadata": {
    "collapsed": false
   },
   "outputs": [
    {
     "data": {
      "text/plain": [
       "<matplotlib.axes._subplots.AxesSubplot at 0x123277050>"
      ]
     },
     "execution_count": 11,
     "metadata": {},
     "output_type": "execute_result"
    },
    {
     "data": {
      "image/png": "[encoded data removed]",
      "text/plain": [
       "<matplotlib.figure.Figure at 0x1231ef850>"
      ]
     },
     "metadata": {},
     "output_type": "display_data"
    }
   ],
   "source": [
    "import seaborn as sns\n",
    "sns.heatmap(encode)"
   ]
  },
  {
   "cell_type": "code",
   "execution_count": null,
   "metadata": {
    "collapsed": true
   },
   "outputs": [],
   "source": []
  }
 ],
 "metadata": {
  "kernelspec": {
   "display_name": "Python 2",
   "language": "python",
   "name": "python2"
  },
  "language_info": {
   "codemirror_mode": {
    "name": "ipython",
    "version": 2
   },
   "file_extension": ".py",
   "mimetype": "text/x-python",
   "name": "python",
   "nbconvert_exporter": "python",
   "pygments_lexer": "ipython2",
   "version": "2.7.10"
  },
  "latex_envs": {
   "LaTeX_envs_menu_present": true,
   "bibliofile": "biblio.bib",
   "cite_by": "apalike",
   "current_citInitial": 1,
   "eqLabelWithNumbers": true,
   "eqNumInitial": 1,
   "labels_anchors": false,
   "latex_user_defs": false,
   "report_style_numbering": false,
   "user_envs_cfg": false
  },
  "toc": {
   "colors": {
    "hover_highlight": "#DAA520",
    "running_highlight": "#FF0000",
    "selected_highlight": "#FFD700"
   },
   "moveMenuLeft": true,
   "nav_menu": {
    "height": "12px",
    "width": "252px"
   },
   "navigate_menu": true,
   "number_sections": true,
   "sideBar": true,
   "threshold": 4,
   "toc_cell": false,
   "toc_section_display": "block",
   "toc_window_display": false
  }
 },
 "nbformat": 4,
 "nbformat_minor": 2
}
