{
 "cells": [
  {
   "cell_type": "markdown",
   "metadata": {},
   "source": [
    "# Overview\n",
    "1. scikit-learnにKerasのモデルを使うやり方\n",
    "1. scikit-learnのグリッドサーチを使うやり方\n",
    "1. エポック数とバッチサイズのチューニング\n",
    "1. 学習率とモメンタムのチューニング\n",
    "1. 重み初期化のチューニング\n",
    "1. 活性化関数のチューニング\n",
    "1. DropOut正規化のチューニング\n",
    "1. 隠れ層のニューロン数のチューニング"
   ]
  },
  {
   "cell_type": "markdown",
   "metadata": {},
   "source": [
    "# 1. Keras Model in scikit-learn\n",
    "**KerasClassifier**クラスか**KerasRegressor**クラスでラッピングする  \n",
    "\n",
    "```python\n",
    "def create_model():\n",
    "    ...\n",
    "    return model\n",
    "    \n",
    "model = KerasClassifier(build_fn=create_model)\n",
    "```\n",
    "\n",
    "```python\n",
    "def create_model():\n",
    "\t...\n",
    "\treturn model\n",
    " \n",
    "model = KerasClassifier(build_fn=create_model, nb_epoch=10)\n",
    "```\n",
    "\n",
    "```python\n",
    "def create_model(dropout_rate=0.0):\n",
    "\t...\n",
    "\treturn model\n",
    " \n",
    "model = KerasClassifier(build_fn=create_model, dropout_rate=0.2)\n",
    "```\n"
   ]
  },
  {
   "cell_type": "markdown",
   "metadata": {},
   "source": [
    "# 2. How to Use Grid Search in scikit-learn\n",
    "\n",
    "**GridSearchSV**クラスから提供されてる  \n",
    "\n",
    "**param_grid**引数で評価するハイパーパラメータのディクショナリを渡す  \n",
    "\n"
   ]
  },
  {
   "cell_type": "code",
   "execution_count": null,
   "metadata": {
    "collapsed": true
   },
   "outputs": [],
   "source": []
  }
 ],
 "metadata": {
  "kernelspec": {
   "display_name": "Python 2",
   "language": "python",
   "name": "python2"
  },
  "language_info": {
   "codemirror_mode": {
    "name": "ipython",
    "version": 2
   },
   "file_extension": ".py",
   "mimetype": "text/x-python",
   "name": "python",
   "nbconvert_exporter": "python",
   "pygments_lexer": "ipython2",
   "version": "2.7.10"
  }
 },
 "nbformat": 4,
 "nbformat_minor": 0
}
