{
 "cells": [
  {
   "cell_type": "markdown",
   "metadata": {},
   "source": [
    "# How to Install Keras\n",
    "\n",
    "```sh\n",
    "sudo pip install keras\n",
    "```"
   ]
  },
  {
   "cell_type": "code",
   "execution_count": 2,
   "metadata": {
    "collapsed": false
   },
   "outputs": [
    {
     "name": "stderr",
     "output_type": "stream",
     "text": [
      "Using Theano backend.\n"
     ]
    },
    {
     "name": "stdout",
     "output_type": "stream",
     "text": [
      "1.1.0\n"
     ]
    }
   ],
   "source": [
    "import keras\n",
    "print keras.__version__"
   ]
  },
  {
   "cell_type": "markdown",
   "metadata": {},
   "source": [
    "# TheanoとTensorFlowバックエンド\n",
    "\n",
    "```sh\n",
    "vi ~/.keras/keras.json\n",
    "```\n",
    "\n",
    "```json\n",
    "{\n",
    "    \"image_dim_ordering\": \"tf\", \n",
    "    \"epsilon\": 1e-07, \n",
    "    \"floatx\": \"float32\", \n",
    "    \"backend\": \"theano\"\n",
    "}\n",
    "```\n",
    "バックエンド\"backend\"の属性を参照する  \n",
    "\"tensorflow\"(デフォルト)を\"theano\"に変える  \n",
    "その逆もまた然り"
   ]
  },
  {
   "cell_type": "code",
   "execution_count": 3,
   "metadata": {
    "collapsed": false
   },
   "outputs": [
    {
     "name": "stdout",
     "output_type": "stream",
     "text": [
      "theano\n"
     ]
    }
   ],
   "source": [
    "from keras import backend\n",
    "print backend._BACKEND"
   ]
  },
  {
   "cell_type": "markdown",
   "metadata": {},
   "source": [
    "# Build Deep Learning\n",
    "1. Define your model\n",
    "    - 逐次的に層を追加していく\n",
    "1. Compile your model\n",
    "    - とくに損失関数と最適化\n",
    "1. Fit your model\n",
    "    - データを使ってモデルを実行\n",
    "1. Make predictions\n",
    "    - 学習されたモデルを使って未知データの予測を生成"
   ]
  }
 ],
 "metadata": {
  "kernelspec": {
   "display_name": "Python 2",
   "language": "python",
   "name": "python2"
  },
  "language_info": {
   "codemirror_mode": {
    "name": "ipython",
    "version": 2
   },
   "file_extension": ".py",
   "mimetype": "text/x-python",
   "name": "python",
   "nbconvert_exporter": "python",
   "pygments_lexer": "ipython2",
   "version": "2.7.10"
  }
 },
 "nbformat": 4,
 "nbformat_minor": 0
}
