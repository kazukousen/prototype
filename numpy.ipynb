{
 "cells": [
  {
   "cell_type": "code",
   "execution_count": 2,
   "metadata": {
    "collapsed": false
   },
   "outputs": [],
   "source": [
    "import numpy as np\n",
    "import scipy as sp\n",
    "import sklearn"
   ]
  },
  {
   "cell_type": "markdown",
   "metadata": {},
   "source": [
    "$$Pr[\\mathbf{X}, Y] = Pr[Y]\\prod^K_{j=1}Pr[X_j|Y]$$\n",
    "\n",
    "対数尤度は\n",
    "$$\\mathcal{L}(\\mathcal{D};\\{Pr[y]\\},\\{Pr[x_j|y]\\})=\\sum_{(\\mathbf{x}_i,y_i)\\in\\mathcal{D}}\\ln{Pr[\\mathbf{x}_i|y_i]}$$\n",
    "\n",
    "予測するときは\n",
    "$$\\newcommand{\\argmax}{\\mathop{\\rm arg~max}\\limits}\\\\\n",
    "\\begin{eqnarray*}\n",
    "\\hat{y}&=&\\argmax_y Pr[y|\\mathbf{x}^{new}]\\\\\n",
    "&=&\\argmax_y \\frac{Pr[y]Pr[\\mathbf{x}^{new}|y]}{\\sum_y{Pr[y]Pr[\\mathbf{x}^{new}|y]}}\\\\\n",
    "&=&\\argmax_y Pr[y]Pr[\\mathbf{x}^{new}|y]\\\\\n",
    "&=&\\argmax_y \\biggl(Pr[y]\\prod_j{Pr[x^{new}_j|y]}\\biggr)\\\\\n",
    "&=&\\argmax_y \\biggl(\\log{Pr[y]}+\\sum_j{\\log{Pr[x^{new}_j|y]}}\\biggr)\n",
    "\\end{eqnarray*}$$"
   ]
  },
  {
   "cell_type": "markdown",
   "metadata": {},
   "source": [
    "### 仕様設計\n",
    "- データに依存しないアルゴリズムのパラメータは、クラスのコンストラクタの引数で指定する\n",
    "- 学習はfit()メソッドで行う。訓練データとデータに依存したパラメータを、このメソッドの引数で指定する\n",
    "- 予測はpredict()メソッドで行う。新規の入力データを、このメソッドの引数で指定する\n",
    "- モデルのデータの当てはめの良さの評価は、score()メソッドで行う。評価対象のデータを、このメソッドの引数で指定する\n",
    "- 次元削除などのデータ変換は、transform()メソッドで行う。"
   ]
  },
  {
   "cell_type": "code",
   "execution_count": null,
   "metadata": {
    "collapsed": true
   },
   "outputs": [],
   "source": [
    "class NaiveBayes1(object):\n",
    "    def __init__(self):\n",
    "        self.pY_ = None\n",
    "        self.pXgY_ = None\n",
    "        \n",
    "    def fit(self, X, y):\n",
    "        pass\n",
    "    \n",
    "    def predict(self, X):\n",
    "        pass\n",
    "    \n",
    "    "
   ]
  }
 ],
 "metadata": {
  "kernelspec": {
   "display_name": "Python 2",
   "language": "python",
   "name": "python2"
  },
  "language_info": {
   "codemirror_mode": {
    "name": "ipython",
    "version": 2
   },
   "file_extension": ".py",
   "mimetype": "text/x-python",
   "name": "python",
   "nbconvert_exporter": "python",
   "pygments_lexer": "ipython2",
   "version": "2.7.6"
  }
 },
 "nbformat": 4,
 "nbformat_minor": 1
}
