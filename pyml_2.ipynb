{
 "cells": [
  {
   "cell_type": "markdown",
   "metadata": {},
   "source": [
    "## Rosenblatt\n",
    "最適な重み係数を自動的に学習したあと、入力信号とかけあわせ、ニューロンが発火するかどうか判断する\n",
    "\n",
    "- 1 (陽性クラス)\n",
    "- -1(陰性クラス)\n",
    "\n",
    "活性化関数　$\\phi$ 引数は入力値$x$と重みベクトル$w$の線形結合\n",
    "\n",
    "閾値$\\theta$より大きい場合は1,小さい場合は-1\n",
    "\n",
    "### 手順\n",
    "\n",
    "1. 重みを0または値の小さい乱数で初期化\n",
    "1. トレーニングサンプル$x^{(i)}$ごとに以下の手順を実行\n",
    "    1. 出力値$\\hat{y}$を計算\n",
    "    1. 重みを更新\n",
    "\n",
    "ここでの出力値は、単位ステップ関数によって予測されるクラスラベル  \n",
    "$$w_j := w_j + \\Delta w_j$$\n",
    "\n",
    "$\\Delta w_j$の値はパーセプトロンの学習規則に基づいて計算される  \n",
    "$$\\Delta w_j = \\eta(y^{(i)} - \\hat{y}^{(i)})x^{(i)}_j$$\n",
    "\n",
    "$\\eta$は学習率(0.0よりも大きく1.0以下の定数)  \n",
    "$y^{(i)}$は**本当**のクラスラベル  \n",
    "$\\hat{y}^{(i)}$は予測されたクラスラベル  \n",
    "\n"
   ]
  },
  {
   "cell_type": "code",
   "execution_count": 1,
   "metadata": {
    "collapsed": true
   },
   "outputs": [],
   "source": [
    "import numpy as np\n",
    "class Perceptron(object):\n",
    "    \"\"\"パーセプトロンの分類器\n",
    "    \n",
    "    パラメータ\n",
    "    ------------------\n",
    "    eta : float\n",
    "        学習率 (0.0より大きく1.0以下の値)\n",
    "    n_iter : int\n",
    "        トレーニングデータのトレーニング回数\n",
    "    \n",
    "    属性\n",
    "    -------------------\n",
    "    w_ : １次元配列\n",
    "        適合後の重み\n",
    "    errors_ : リスト\n",
    "        各エポックでの誤分類数\n",
    "    \"\"\"\n",
    "    def __init__(self, eta=0.01, n_iter=10):\n",
    "        self.eta = eta\n",
    "        self.n_iter = n_iter\n",
    "    \n",
    "    def fit(self, X, y):\n",
    "        \"\"\"トレーニングデータに適合させる\n",
    "        \n",
    "        パラメータ\n",
    "        -----------------\n",
    "        X : { 配列のようなデータ構造 }, shape = [n_samples, n_features]\n",
    "            トレーニングデータ\n",
    "            n_sampleはサンプルの個数, n_featureは特徴量の個数\n",
    "        y : 配列のようなデータ構造 , shape = [n_samples]\n",
    "            目的関数\n",
    "        \n",
    "        戻り値\n",
    "        -----------------\n",
    "        self : object\n",
    "        \"\"\"\n",
    "        self.w_ = np.zeros(1 + X.shape[1])\n",
    "        self.errors_ = []\n",
    "        \n",
    "        for _ in range(self.n_iter):\n",
    "            errors = 0\n",
    "            for xi, target in zip(X, y):\n",
    "                # 重みw_1~w_mの更新\n",
    "                update = self.eta * (target - self.predict(xi))\n",
    "                self.w_[1:] += update * xi\n",
    "                # 重みw_0の更新\n",
    "                self.w_[0] += update\n",
    "                # 重みの更新が0でない場合は誤分類としてカウント\n",
    "                errors += int(update != 0.0)\n",
    "            # 反復回数ごとの誤差を格納\n",
    "            self.errors_.append(errors)\n",
    "        \n",
    "        return self\n",
    "    \n",
    "    def net_input(self, X):\n",
    "        \"\"\"総入力を計算\"\"\"\n",
    "        return np.dot(X, self.w_[1:]) + self.w_[0]\n",
    "    \n",
    "    def predict(self, X):\n",
    "        \"\"\"1ステップ後のクラスラベルを返す\"\"\"\n",
    "        return np.where(self.net_input(X) >= 0.0, 1, -1)"
   ]
  },
  {
   "cell_type": "markdown",
   "metadata": {},
   "source": [
    "## 2.3 Irisデータセットでトレーニング"
   ]
  },
  {
   "cell_type": "code",
   "execution_count": 2,
   "metadata": {
    "collapsed": false
   },
   "outputs": [
    {
     "data": {
      "text/html": [
       "<div>\n",
       "<table border=\"1\" class=\"dataframe\">\n",
       "  <thead>\n",
       "    <tr style=\"text-align: right;\">\n",
       "      <th></th>\n",
       "      <th>0</th>\n",
       "      <th>1</th>\n",
       "      <th>2</th>\n",
       "      <th>3</th>\n",
       "      <th>4</th>\n",
       "    </tr>\n",
       "  </thead>\n",
       "  <tbody>\n",
       "    <tr>\n",
       "      <th>145</th>\n",
       "      <td>6.7</td>\n",
       "      <td>3.0</td>\n",
       "      <td>5.2</td>\n",
       "      <td>2.3</td>\n",
       "      <td>virginica</td>\n",
       "    </tr>\n",
       "    <tr>\n",
       "      <th>146</th>\n",
       "      <td>6.3</td>\n",
       "      <td>2.5</td>\n",
       "      <td>5.0</td>\n",
       "      <td>1.9</td>\n",
       "      <td>virginica</td>\n",
       "    </tr>\n",
       "    <tr>\n",
       "      <th>147</th>\n",
       "      <td>6.5</td>\n",
       "      <td>3.0</td>\n",
       "      <td>5.2</td>\n",
       "      <td>2.0</td>\n",
       "      <td>virginica</td>\n",
       "    </tr>\n",
       "    <tr>\n",
       "      <th>148</th>\n",
       "      <td>6.2</td>\n",
       "      <td>3.4</td>\n",
       "      <td>5.4</td>\n",
       "      <td>2.3</td>\n",
       "      <td>virginica</td>\n",
       "    </tr>\n",
       "    <tr>\n",
       "      <th>149</th>\n",
       "      <td>5.9</td>\n",
       "      <td>3.0</td>\n",
       "      <td>5.1</td>\n",
       "      <td>1.8</td>\n",
       "      <td>virginica</td>\n",
       "    </tr>\n",
       "  </tbody>\n",
       "</table>\n",
       "</div>"
      ],
      "text/plain": [
       "       0    1    2    3          4\n",
       "145  6.7  3.0  5.2  2.3  virginica\n",
       "146  6.3  2.5  5.0  1.9  virginica\n",
       "147  6.5  3.0  5.2  2.0  virginica\n",
       "148  6.2  3.4  5.4  2.3  virginica\n",
       "149  5.9  3.0  5.1  1.8  virginica"
      ]
     },
     "execution_count": 2,
     "metadata": {},
     "output_type": "execute_result"
    }
   ],
   "source": [
    "import pandas as pd\n",
    "df = pd.read_csv(\"iris.csv\", header=None)\n",
    "df.tail()"
   ]
  },
  {
   "cell_type": "code",
   "execution_count": 3,
   "metadata": {
    "collapsed": true
   },
   "outputs": [],
   "source": [
    "import matplotlib.pyplot as plt\n",
    "import numpy as np\n",
    "%matplotlib inline"
   ]
  },
  {
   "cell_type": "code",
   "execution_count": 4,
   "metadata": {
    "collapsed": false
   },
   "outputs": [
    {
     "data": {
      "text/plain": [
       "array(['setosa', 'setosa', 'setosa', 'setosa', 'setosa', 'setosa',\n",
       "       'setosa', 'setosa', 'setosa', 'setosa', 'setosa', 'setosa',\n",
       "       'setosa', 'setosa', 'setosa', 'setosa', 'setosa', 'setosa',\n",
       "       'setosa', 'setosa', 'setosa', 'setosa', 'setosa', 'setosa',\n",
       "       'setosa', 'setosa', 'setosa', 'setosa', 'setosa', 'setosa',\n",
       "       'setosa', 'setosa', 'setosa', 'setosa', 'setosa', 'setosa',\n",
       "       'setosa', 'setosa', 'setosa', 'setosa', 'setosa', 'setosa',\n",
       "       'setosa', 'setosa', 'setosa', 'setosa', 'setosa', 'setosa',\n",
       "       'setosa', 'setosa', 'versicolor', 'versicolor', 'versicolor',\n",
       "       'versicolor', 'versicolor', 'versicolor', 'versicolor',\n",
       "       'versicolor', 'versicolor', 'versicolor', 'versicolor',\n",
       "       'versicolor', 'versicolor', 'versicolor', 'versicolor',\n",
       "       'versicolor', 'versicolor', 'versicolor', 'versicolor',\n",
       "       'versicolor', 'versicolor', 'versicolor', 'versicolor',\n",
       "       'versicolor', 'versicolor', 'versicolor', 'versicolor',\n",
       "       'versicolor', 'versicolor', 'versicolor', 'versicolor',\n",
       "       'versicolor', 'versicolor', 'versicolor', 'versicolor',\n",
       "       'versicolor', 'versicolor', 'versicolor', 'versicolor',\n",
       "       'versicolor', 'versicolor', 'versicolor', 'versicolor',\n",
       "       'versicolor', 'versicolor', 'versicolor', 'versicolor',\n",
       "       'versicolor', 'versicolor', 'versicolor'], dtype=object)"
      ]
     },
     "execution_count": 4,
     "metadata": {},
     "output_type": "execute_result"
    }
   ],
   "source": [
    "# 1-100行目の目的変数の抽出\n",
    "y = df.iloc[0:100, 4].values\n",
    "y"
   ]
  },
  {
   "cell_type": "code",
   "execution_count": 5,
   "metadata": {
    "collapsed": true
   },
   "outputs": [],
   "source": [
    "# setosaを-1、versicolorを1\n",
    "y = np.where(y == \"setosa\", -1, 1)"
   ]
  },
  {
   "cell_type": "code",
   "execution_count": 6,
   "metadata": {
    "collapsed": false
   },
   "outputs": [],
   "source": [
    "# 1-100行目の1,3列目の抽出\n",
    "X = df.iloc[0:100, [0, 2]].values"
   ]
  },
  {
   "cell_type": "code",
   "execution_count": 7,
   "metadata": {
    "collapsed": false
   },
   "outputs": [
    {
     "data": {
      "image/png": "[encoded data removed]",
      "text/plain": [
       "<matplotlib.figure.Figure at 0x1128e8350>"
      ]
     },
     "metadata": {},
     "output_type": "display_data"
    }
   ],
   "source": [
    "# 品種setosaのプロット(赤の○)\n",
    "plt.scatter(X[:50, 0], X[:50, 1], color='red', marker='o', label=\"setosa\")\n",
    "# 品種versicolorのプロット(青の×)\n",
    "plt.scatter(X[50:100, 0], X[50:100, 1], color='blue', marker='x', label=\"versicolor\")\n",
    "# 軸のラベル設定\n",
    "plt.xlabel(\"sepal length [cm]\")\n",
    "plt.ylabel(\"petal length [cm]\")\n",
    "# 凡例の設定(左上に配置)\n",
    "plt.legend(loc=\"upper left\")\n",
    "# 図の表示\n",
    "plt.show()"
   ]
  },
  {
   "cell_type": "code",
   "execution_count": 8,
   "metadata": {
    "collapsed": false
   },
   "outputs": [
    {
     "data": {
      "image/png": "[encoded data removed]",
      "text/plain": [
       "<matplotlib.figure.Figure at 0x1129e3750>"
      ]
     },
     "metadata": {},
     "output_type": "display_data"
    }
   ],
   "source": [
    "# パーセプトロンのオブジェクトの生成(インスタンス化)\n",
    "ppn = Perceptron(eta=0.1, n_iter=10)\n",
    "# トレーニングデータへのモデルの適合\n",
    "ppn.fit(X, y)\n",
    "# エポックと誤分類誤差の関係の折れ線グラフをプロット\n",
    "plt.plot(range(1, len(ppn.errors_) + 1), ppn.errors_, marker='o')\n",
    "# 軸のラベルの設定\n",
    "plt.xlabel(\"Epochs\")\n",
    "plt.ylabel(\"Number of misclassifications\")\n",
    "# 図の表示\n",
    "plt.show()"
   ]
  },
  {
   "cell_type": "markdown",
   "metadata": {},
   "source": [
    "グラフからみるに、6回目のエポックのあと、パーセプトロンはすでに収束している。  \n",
    "\n",
    "二次元データの決定境界を可視化するために、簡単で便利な関数を実装する。  \n",
    "\n",
    "1. colorsとmarkersを複数定義したあと、ListedColormapを使って色のリストからカラーマップを作成する。\n",
    "1. 2つの特徴量の最小値と最大値を求め、それらの特徴ベクトルを使ってグリッド配列xx1とxx2のペアを作成する。\n",
    "1. 2次元の特徴量で分類器をトレーニングしたため、グリッド配列を1次元にし、Irisトレーニングサブセットと同じ個数の列を持つ行列を作成する\n",
    "1. predictメソッドを使って対応するグリッドポイントのクラスラベルzを予測する\n",
    "1. クラスラベルzを予測したあと、xx1及びxx2と同じ次元をもつグリッドに作り変えた上で、等高線図を描画できる(plt.contourf関数を用いる)"
   ]
  },
  {
   "cell_type": "code",
   "execution_count": 9,
   "metadata": {
    "collapsed": true
   },
   "outputs": [],
   "source": [
    "from matplotlib.colors import ListedColormap\n",
    "\n",
    "def plot_decision_regions(X, y, classifier, resolution=0.02):\n",
    "    # マーカーとカラーマップの準備\n",
    "    markers = ('s', 'x', 'o', '^', 'v')\n",
    "    colors = ('red', 'blue', 'lightgreen', 'gray', 'cyan')\n",
    "    cmap = ListedColormap(colors[:len(np.unique(y))])\n",
    "    \n",
    "    # 決定領域のプロット\n",
    "    x1_min, x1_max = X[:, 0].min() - 1, X[:, 0].max() + 1\n",
    "    x2_min, x2_max = X[:, 1].min() - 1, X[:, 1].max() + 1\n",
    "    # グリッドポイントの生成\n",
    "    xx1, xx2 = np.meshgrid(np.arange(x1_min, x1_max, resolution),\n",
    "                                              np.arange(x2_min, x2_max, resolution))\n",
    "    \n",
    "    # 各特徴量を1次元配列に変換して予測を実行\n",
    "    Z = classifier.predict(np.array([xx1.ravel(), xx2.ravel()]).T)\n",
    "    # 予測結果を元のグリッドポイントのデータサイズに変換\n",
    "    Z = Z.reshape(xx1.shape)\n",
    "    # グリッドポイントの等高線のプロット\n",
    "    plt.contourf(xx1, xx2, Z, alpha=0.4, cmap=cmap)\n",
    "    # 軸の範囲の設定\n",
    "    plt.xlim(xx1.min(), xx1.max())\n",
    "    plt.ylim(xx2.min(), xx2.max())\n",
    "    \n",
    "    # クラスごとにサンプルをプロット\n",
    "    for idx, cl in enumerate(np.unique(y)):\n",
    "        plt.scatter(x=X[y==cl, 0], y=X[y==cl, 1], alpha=0.8, c=cmap(idx),\n",
    "                           marker=markers[idx], label=cl)"
   ]
  },
  {
   "cell_type": "code",
   "execution_count": 10,
   "metadata": {
    "collapsed": false
   },
   "outputs": [
    {
     "data": {
      "image/png": "[encoded data removed]",
      "text/plain": [
       "<matplotlib.figure.Figure at 0x1128dff90>"
      ]
     },
     "metadata": {},
     "output_type": "display_data"
    }
   ],
   "source": [
    "# 決定境界のプロット\n",
    "plot_decision_regions(X, y, classifier=ppn)\n",
    "# 軸のラベル設定\n",
    "plt.xlabel(\"sepal length [cm]\")\n",
    "plt.ylabel(\"petal length [cm]\")\n",
    "# 凡例の設定(左上に配置)\n",
    "plt.legend(loc=\"upper left\")\n",
    "# 図の表示\n",
    "plt.show()"
   ]
  },
  {
   "cell_type": "markdown",
   "metadata": {},
   "source": [
    "## 2.4 ADALINEと学習の収束\n",
    "\n",
    "Rosenblattとの主な違い\n",
    "\n",
    "- 重みの更新法\n",
    "  - $\\phi(z)$は単に総入力の恒等関数\n",
    "  - クラスラベルの予測には量子化器を使用\n",
    "- モデル誤差の計算と重みの更新に2値のクラスラベルを使用するのではなく、連続値の出力を使用する"
   ]
  },
  {
   "cell_type": "markdown",
   "metadata": {},
   "source": [
    "## 2.5 勾配降下法によるコスト関数の最小化\n",
    "\n",
    "$$J(w) = \\frac{1}{2}\\sum_i\\bigl(y^{(i)}-\\phi(z^{(i)})\\bigr)^2$$\n",
    "\n",
    "1/2の項は便宜上の追加したものにすぎない  \n",
    "\n",
    "重み更新  \n",
    "$$w := w + \\Delta w$$\n",
    "\n",
    "重みの変化である$\\Delta w$は、負の勾配に学習率$\\eta$を掛けたものとして定義される  \n",
    "$$\\Delta w = -\\eta\\Delta J(w)$$\n",
    "\n",
    "コスト関数の勾配を計算するには、重み$w_j$ごとに偏微分係数を計算する\n",
    "$$\\frac{\\delta J}{\\delta w_j} = -\\sum_i \\bigl(y^{(i)} - \\phi(z^{(i)})\\bigr)x^{(i)}_j$$\n",
    "\n",
    "よって  \n",
    "$$\\Delta w_j = -\\eta\\frac{\\delta J}{\\delta w_j} = \\eta\\sum_i \\bigl(y^{(i)} - \\phi(z^{(i)})\\bigr)x^{(i)}_j$$"
   ]
  },
  {
   "cell_type": "code",
   "execution_count": 11,
   "metadata": {
    "collapsed": true
   },
   "outputs": [],
   "source": [
    "class AdalineGD(object):\n",
    "    \"\"\"ADAptive LInear NEuron分類器\n",
    "    \n",
    "    パラメータ\n",
    "    -------------------\n",
    "    eta : float\n",
    "        学習率(0.0より大きく1.0以下の値)\n",
    "    n_iter : int\n",
    "        トレーニングデータのトレーニング回数\n",
    "    \n",
    "    属性\n",
    "    -------------------\n",
    "    w_ : 1次元配列\n",
    "        適合後の重み\n",
    "    errors_ : リスト\n",
    "        各エポックでの誤分類数\n",
    "    \n",
    "    \"\"\"\n",
    "    def __init__(self, eta=0.01, n_iter=50):\n",
    "        self.eta = eta\n",
    "        self.n_iter = n_iter\n",
    "    \n",
    "    def fit(self, X, y):\n",
    "        \"\"\"トレーニングデータに適合させる\n",
    "        \n",
    "        パラメータ\n",
    "        -----------------\n",
    "        X : { 配列のようなデータ構造 }, shape = [n_samples, n_features]\n",
    "                トレーニングデータ\n",
    "        y : 配列のようなデータ構造, shape = [n_samples]\n",
    "                目的関数\n",
    "        \n",
    "        戻り値\n",
    "        ------------------\n",
    "        self : object\n",
    "        \n",
    "        \"\"\"\n",
    "        self.w_ = np.zeros(1 + X.shape[1])\n",
    "        self.cost_ = []\n",
    "        \n",
    "        for i in range(self.n_iter): # トレーニング回数分トレーニングデータを反復\n",
    "            # 活性化関数の出力の計算(恒等関数)\n",
    "            output = self.net_input(X)\n",
    "            # 誤差の計算\n",
    "            errors = (y - output)\n",
    "            # w_1 ~ w_mの更新\n",
    "            self.w_[1:] += self.eta * X.T.dot(errors)\n",
    "            # w_0の更新\n",
    "            self.w_[0] += self.eta * errors.sum()\n",
    "            # コスト関数の計算\n",
    "            cost = (errors**2).sum() / 2.0\n",
    "            # コストの格納\n",
    "            self.cost_.append(cost)\n",
    "        \n",
    "        return self\n",
    "    \n",
    "    def net_input(self ,X):\n",
    "        \"\"\"総入力を計算\"\"\"\n",
    "        return np.dot(X, self.w_[1:]) + self.w_[0]\n",
    "    \n",
    "    def activation(self, X):\n",
    "        \"\"\"線形活性化関数の出力を計算\"\"\"\n",
    "        return self.net_input(X)\n",
    "    \n",
    "    def predict(self, X):\n",
    "        \"\"\"1ステップ後のクラスラベルを返す\"\"\"\n",
    "        return np.where(self.activation(X) >= 0.0, 1, -1)"
   ]
  },
  {
   "cell_type": "code",
   "execution_count": 12,
   "metadata": {
    "collapsed": false
   },
   "outputs": [
    {
     "data": {
      "image/png": "[encoded data removed]",
      "text/plain": [
       "<matplotlib.figure.Figure at 0x11300f6d0>"
      ]
     },
     "metadata": {},
     "output_type": "display_data"
    }
   ],
   "source": [
    "# 描画領域を1行2列に分割\n",
    "fig, ax = plt.subplots(nrows=1, ncols=2, figsize=(8, 4))\n",
    "# 勾配降下法によるADALINEの学習(学習率 eta=0.01)\n",
    "ada1 = AdalineGD(n_iter=10, eta=0.01).fit(X, y)\n",
    "# エポック数とコストの関係を表す折れ線グラフのプロット(縦軸のコストは常用対数)\n",
    "ax[0].plot(range(1, len(ada1.cost_)+1), np.log10(ada1.cost_), marker='o')\n",
    "# 軸のラベル設定\n",
    "ax[0].set_xlabel(\"Epochs\")\n",
    "ax[0].set_ylabel(\"log(Sum-squared-error)\")\n",
    "# タイトルの設定\n",
    "ax[0].set_title('AdaLine - Learning rate 0.01')\n",
    "# 勾配降下法によるADALINEの学習(学習率 eta=0.0001)\n",
    "ada2 = AdalineGD(n_iter=10, eta=0.0001).fit(X, y)\n",
    "# エポック数とコストの関係を表す折れ線グラフのプロット(縦軸のコストは常用対数)\n",
    "ax[1].plot(range(1, len(ada2.cost_)+1), np.log10(ada2.cost_), marker='o')\n",
    "# 軸のラベル設定\n",
    "ax[1].set_xlabel(\"Epochs\")\n",
    "ax[1].set_ylabel(\"log(Sum-squared-error)\")\n",
    "# タイトルの設定\n",
    "ax[1].set_title(\"AdaLine - Learning rate 0.001\")\n",
    "# 図の表示\n",
    "plt.show()"
   ]
  },
  {
   "cell_type": "markdown",
   "metadata": {},
   "source": [
    "右のグラフ(eta=0.01)ではOverShoot\n",
    "左のグラフ(eta=0.0001)は収束するのに相当な数のエポックが必要になることが伺える"
   ]
  },
  {
   "cell_type": "markdown",
   "metadata": {},
   "source": [
    "### 標準化\n",
    "特徴量のスケーリングを行い最適なパフォーマンスを試みる  \n",
    "\n",
    "標準正規分布の特性(各特徴量の平均を0にし、標準偏差を1にする)  \n",
    "\n",
    "$j$番目の特徴量を標準化するには、サンプルの平均$\\mu_j$をすべてのサンプルから引き、標準偏差$\\sigma_j$で割れば良い。\n",
    "$$ x'_j = \\frac{x_j - \\mu_j}{\\sigma_j}$$"
   ]
  },
  {
   "cell_type": "code",
   "execution_count": 13,
   "metadata": {
    "collapsed": false
   },
   "outputs": [],
   "source": [
    "# データのコピー\n",
    "X_std = np.copy(X)\n",
    "# 各列の標準化\n",
    "X_std[:,0] = (X[:,0] - X[:,0].mean()) / X[:,0].std()\n",
    "X_std[:,1] = (X[:,1] - X[:,1].mean()) / X[:,1].std()"
   ]
  },
  {
   "cell_type": "code",
   "execution_count": 14,
   "metadata": {
    "collapsed": false
   },
   "outputs": [
    {
     "data": {
      "image/png": "[encoded data removed]",
      "text/plain": [
       "<matplotlib.figure.Figure at 0x1129d98d0>"
      ]
     },
     "metadata": {},
     "output_type": "display_data"
    },
    {
     "data": {
      "image/png": "[encoded data removed]",
      "text/plain": [
       "<matplotlib.figure.Figure at 0x11295ca10>"
      ]
     },
     "metadata": {},
     "output_type": "display_data"
    }
   ],
   "source": [
    "# 勾配降下法によるADALINEの学習(標準化後、学習率eta=0.01)\n",
    "ada = AdalineGD(n_iter=15, eta=0.01)\n",
    "# モデルの適合\n",
    "ada.fit(X_std, y)\n",
    "plot_decision_regions(X_std, y, classifier=ada)\n",
    "# タイトルの設定\n",
    "plt.title(\"Adaline - Gradient Descent\")\n",
    "# 軸のラベルの設定\n",
    "plt.xlabel(\"sepal length [standardized]\")\n",
    "plt.ylabel(\"sepal length [standardized]\")\n",
    "# 凡例の設定(左上に配置)\n",
    "plt.legend(loc=\"upper left\")\n",
    "# 図の表示\n",
    "plt.show()\n",
    "# エポック数とコストの汗液を表す折れ線グラフのプロット\n",
    "plt.plot(range(1, len(ada.cost_) + 1), ada.cost_, marker='o')\n",
    "# 軸のラベル設定\n",
    "plt.xlabel(\"Epochs\")\n",
    "plt.ylabel(\"Sum-squared-error\")\n",
    "# 図の表示\n",
    "plt.show()"
   ]
  },
  {
   "cell_type": "markdown",
   "metadata": {},
   "source": [
    "## 2.6 大規模な機械学習と確率的勾配降下法\n",
    "いままでのはバッチ勾配降下法である  \n",
    "**確率的勾配降下法**はすべてのサンプル$x^{(i)}$にわたって蓄積された誤分類の合計を用いて重みを更新するのではない  \n",
    "$$ \\Delta w = \\eta \\sum_i \\bigl(y^{(i)} - \\phi(z^{(i)}\\bigr)x^{(i)} $$\n",
    "以下のように、トレーニングサンプルごとに段階的に重みを更新する  \n",
    "$$ \\eta\\bigl(y^{(i)} - \\phi(z^{(i)})\\bigr)x^{(i)} $$\n",
    "\n",
    "ADALINEの学習則の変更\n",
    "\n",
    "- fitメソッドはトレーニングサンプルごとに重みを更新\n",
    "- オンライン学習にあわせて、重みの再初期化を行わないpartial_fitメソッドを追加\n",
    "- トレークング後にアルゴリズムが収束したかどうかを確認するには、サンプルの平均コストとしてエポックごとのコストを計算する\n",
    "- 各エポックの前にデータをシャッフル(shuffle)するオプションも追加(循環を避けるための措置)\n",
    "- 整合性を保つためにrandom_stateパラメータを使って乱数種を指定"
   ]
  },
  {
   "cell_type": "code",
   "execution_count": 17,
   "metadata": {
    "collapsed": false
   },
   "outputs": [],
   "source": [
    "from numpy.random import seed\n",
    "class AdalineSGD(object):\n",
    "    \"\"\"ADAptive LInear NEuron分類器\n",
    "    \n",
    "    パラメータ\n",
    "    -------------------\n",
    "    eta : float\n",
    "        学習率(0.0より大きく1.0以下の値)\n",
    "    n_iter : int\n",
    "        トレーニングデータのトレーニング回数\n",
    "    \n",
    "    属性\n",
    "    -------------------\n",
    "    w_ : 1次元配列\n",
    "        適合後の重み\n",
    "    errors_ : リスト\n",
    "        各エポックでの誤分類数\n",
    "    shuffle : bool(デフォルト : True)\n",
    "        循環を回避するために各エポックでトレーニングデータをシャッフル\n",
    "    random_state : int (デフォルト : None)\n",
    "        シャッフルに使用するrandom_stateを設定し、重みを初期化\n",
    "    \n",
    "    \"\"\"\n",
    "    def __init__(self, eta=0.01, n_iter=50, shuffle=None, random_state=None):\n",
    "        self.eta = eta\n",
    "        self.n_iter = n_iter\n",
    "        # 重みの初期化フラグはFalseに設定\n",
    "        self.w_initialized = False\n",
    "        # 各エポックでトレーニングデータをシャッフルするかどうかのフラグを初期化\n",
    "        self.shuffle = shuffle\n",
    "        # 引数random_stateが指定された場合は乱数種を設定\n",
    "        if random_state:\n",
    "            seed(random_state)\n",
    "    \n",
    "    def fit(self, X, y):\n",
    "        \"\"\"トレーニングデータに適合させる\n",
    "        \n",
    "        パラメータ\n",
    "        -----------------\n",
    "        X : { 配列のようなデータ構造 }, shape = [n_samples, n_features]\n",
    "                トレーニングデータ\n",
    "        y : 配列のようなデータ構造, shape = [n_samples]\n",
    "                目的関数\n",
    "        \n",
    "        戻り値\n",
    "        ------------------\n",
    "        self : object\n",
    "        \n",
    "        \"\"\"\n",
    "        # 重みベクトルの作成\n",
    "        self._initialize_weights(X.shape[1])\n",
    "        # コストを格納するリストの作成\n",
    "        self.cost_ = []\n",
    "        \n",
    "        # トレーニング回数分トレーニングデータを反復\n",
    "        for i in range(self.n_iter):\n",
    "            # 指定された場合はトレーニングデータをシャッフル\n",
    "            if self.shuffle:\n",
    "                X, y = self._shuffle(X, y)\n",
    "            # 各サンプルのコストを格納するリストの作成\n",
    "            cost = []\n",
    "            # 各サンプルに対する計算\n",
    "            for xi, target in zip(X, y):\n",
    "                # 特徴量xiと目的変数yを用いた重みの更新とコストの計算\n",
    "                cost.append(self._update_weights(xi, target))\n",
    "            # サンプルの平均コストの計算\n",
    "            avg_cost = sum(cost)/len(y)\n",
    "            # 平均コストを格納\n",
    "            self.cost_.append(avg_cost)\n",
    "        \n",
    "        return self\n",
    "    \n",
    "    def partial_fit(self, X, y):\n",
    "        \"\"\"重みを再初期化することなくトレーニングデータに適合させる\"\"\"\n",
    "        # 初期化されていない場合は初期化を実行\n",
    "        if not self.w_initialized:\n",
    "            self._initialize_weights(X.shape[1])\n",
    "        # 目的変数 yの要素数が2以上の場合は\n",
    "        # 各サンプルの特徴量xiと目的変数targetで重みを更新\n",
    "        if y.ravel().shape[0] > 1:\n",
    "            for xi, target in zip(X, y):\n",
    "                self._update_weights(xi, target)\n",
    "        # 目的変数yの要素数が1の場合は\n",
    "        # サンプル全体の特徴量Xと目的変数yで重みを更新\n",
    "        else:\n",
    "            self._update_weights(X, y)\n",
    "        \n",
    "        return self\n",
    "    \n",
    "    def _shuffle(self, X, y):\n",
    "        \"\"\"トレーニングデータをシャッフル\"\"\"\n",
    "        r = np.random.permutation(len(y))\n",
    "        return X[r], y[r]\n",
    "    \n",
    "    def _initialize_weights(self, m):\n",
    "        \"\"\"重みを0に初期化\"\"\"\n",
    "        self.w_ = np.zeros(1 + m)\n",
    "        self.w_initialized = True\n",
    "    \n",
    "    def _update_weights(self, xi, target):\n",
    "        \"\"\"ADALINE学習規則を用いて重みを更新\"\"\"\n",
    "        # 活性化関数の出力の計算\n",
    "        output = self.net_input(xi)\n",
    "        # 誤差の計算\n",
    "        error = (target - output)\n",
    "        # 重みw1~wmの計算\n",
    "        self.w_[1:] += self.eta * xi.dot(error)\n",
    "        # 重みw0の計算\n",
    "        self.w_[0] += self.eta * error\n",
    "        # コストの計算\n",
    "        cost = 0.5 * error**2\n",
    "        return cost\n",
    "    \n",
    "    def net_input(self, X):\n",
    "        \"\"\"総入力を計算\"\"\"\n",
    "        return np.dot(X, self.w_[1:] ) + self.w_[0]\n",
    "    \n",
    "    def activation(self, X):\n",
    "        \"\"\"整形活性化関数の出力を計算\"\"\"\n",
    "        return self.net_input(X)\n",
    "    \n",
    "    def predict(self, X):\n",
    "        \"\"\"1ステップ後のクラスラベルを返す\"\"\"\n",
    "        return np.where(self.activation(X) >= 0.0, 1, -1)"
   ]
  },
  {
   "cell_type": "code",
   "execution_count": 18,
   "metadata": {
    "collapsed": false
   },
   "outputs": [
    {
     "data": {
      "image/png": "[encoded data removed]",
      "text/plain": [
       "<matplotlib.figure.Figure at 0x112bdae50>"
      ]
     },
     "metadata": {},
     "output_type": "display_data"
    },
    {
     "data": {
      "image/png": "[encoded data removed]",
      "text/plain": [
       "<matplotlib.figure.Figure at 0x112fd7c50>"
      ]
     },
     "metadata": {},
     "output_type": "display_data"
    }
   ],
   "source": [
    "# 確率的勾配降下法によるADALINEの学習\n",
    "ada = AdalineSGD(n_iter=15, eta=0.01, random_state=1)\n",
    "# モデルへの適合\n",
    "ada.fit(X_std, y)\n",
    "# 境界領域のプロット\n",
    "plot_decision_regions(X_std, y, classifier=ada)\n",
    "# タイトルの設定\n",
    "plt.title(\"Adaline - Stochastic Gradient Descent\")\n",
    "# 軸のラベルの設定\n",
    "plt.xlabel(\"sepal length [standardized]\")\n",
    "plt.ylabel(\"petal kength [standardized]\")\n",
    "# 凡例の設定(左上に配置)\n",
    "plt.legend(loc=\"upper left\")\n",
    "plt.tight_layout()\n",
    "# プロットの表示\n",
    "plt.show()\n",
    "# エポックとコストの折れ線グラフのプロット\n",
    "plt.plot(range(1, len(ada.cost_) + 1), ada.cost_, marker='o')\n",
    "# 軸のラベル設定\n",
    "plt.xlabel(\"Epochs\")\n",
    "plt.ylabel(\"Average Cost\")\n",
    "# プロットの表示\n",
    "plt.show()"
   ]
  },
  {
   "cell_type": "markdown",
   "metadata": {},
   "source": [
    "このモデルをオンライン学習においてストリーミングデータを使って  \n",
    "更新したい場合は、個々のサンプルでpartial_fitメソッドを呼び出すだけで良い  \n",
    "\n",
    "このメソッドの呼び出しはたとえばada.partial_fit(X_std[0, :], y[0])のようになる。"
   ]
  }
 ],
 "metadata": {
  "kernelspec": {
   "display_name": "Python 2",
   "language": "python",
   "name": "python2"
  },
  "language_info": {
   "codemirror_mode": {
    "name": "ipython",
    "version": 2
   },
   "file_extension": ".py",
   "mimetype": "text/x-python",
   "name": "python",
   "nbconvert_exporter": "python",
   "pygments_lexer": "ipython2",
   "version": "2.7.10"
  }
 },
 "nbformat": 4,
 "nbformat_minor": 0
}
